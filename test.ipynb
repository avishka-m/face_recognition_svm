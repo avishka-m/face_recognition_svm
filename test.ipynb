{
 "cells": [
  {
   "cell_type": "code",
   "execution_count": 1,
   "id": "4ca5d81e",
   "metadata": {},
   "outputs": [],
   "source": [
    "import joblib\n",
    "\n",
    "model = joblib.load('svm_face_recognisation.sav')"
   ]
  },
  {
   "cell_type": "code",
   "execution_count": 2,
   "id": "80a4a3e2",
   "metadata": {},
   "outputs": [],
   "source": [
    "category_dict={0:'Barack Obama', 1:'Donald Trump',2:'George W Bush'}"
   ]
  },
  {
   "cell_type": "code",
   "execution_count": 3,
   "id": "45b6d245",
   "metadata": {},
   "outputs": [],
   "source": [
    "test_data_path = \"test_data\"\n",
    "\n",
    "import os \n",
    "import cv2"
   ]
  },
  {
   "cell_type": "code",
   "execution_count": 4,
   "id": "8fc6565d",
   "metadata": {},
   "outputs": [],
   "source": [
    "face_classifire = cv2.CascadeClassifier('haarcascade_frontalface_default.xml')\n",
    "\n",
    "test_img_names = os.listdir(test_data_path)\n",
    "\n",
    "for test_img in test_img_names:\n",
    "    img_path = os.path.join(test_data_path,test_img)\n",
    "    test_img = cv2.imread(img_path)\n",
    "\n",
    "    gray = cv2.cvtColor(test_img,cv2.COLOR_BGR2GRAY)\n",
    "\n",
    "    faces = face_classifire.detectMultiScale(gray)\n",
    "\n",
    "    for (x,y,w,h) in faces:\n",
    "        cv2.rectangle(test_img,(x,y),(x+w,y+h),(0,255,0),2)\n",
    "\n",
    "        croped_face = gray[y:y+h,x:x+w]\n",
    "        croped_face = cv2.resize(croped_face,(50,50))\n",
    "        croped_original = croped_face\n",
    "        croped_face = croped_face.reshape(1,50*50)\n",
    "\n",
    "        result = model.predict(croped_face)\n",
    "        name = category_dict[result[0]]\n",
    "\n",
    "        cv2.putText(test_img,name,(x,y-10),cv2.FONT_HERSHEY_SIMPLEX,1.5,(255,0,0),2)\n",
    "        cv2.imshow('GRAY',croped_original) \n",
    "    cv2.imshow(\"IVE\", test_img)\n",
    "\n",
    "    k = cv2.waitKey(1000)\n",
    "    if(k==27):\n",
    "        break\n",
    "\n",
    "cv2.destroyAllWindows()"
   ]
  },
  {
   "cell_type": "code",
   "execution_count": null,
   "id": "3d31de64",
   "metadata": {},
   "outputs": [],
   "source": []
  }
 ],
 "metadata": {
  "kernelspec": {
   "display_name": "conda_venv",
   "language": "python",
   "name": "python3"
  },
  "language_info": {
   "codemirror_mode": {
    "name": "ipython",
    "version": 3
   },
   "file_extension": ".py",
   "mimetype": "text/x-python",
   "name": "python",
   "nbconvert_exporter": "python",
   "pygments_lexer": "ipython3",
   "version": "3.12.9"
  }
 },
 "nbformat": 4,
 "nbformat_minor": 5
}
