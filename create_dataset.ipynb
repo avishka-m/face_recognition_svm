{
 "cells": [
  {
   "cell_type": "code",
   "execution_count": 2,
   "id": "ab0295b5",
   "metadata": {},
   "outputs": [],
   "source": [
    "import os\n",
    "import cv2"
   ]
  },
  {
   "cell_type": "code",
   "execution_count": 3,
   "id": "68f9e505",
   "metadata": {},
   "outputs": [],
   "source": [
    "data_path = \"train_data\""
   ]
  },
  {
   "cell_type": "code",
   "execution_count": null,
   "id": "faefa77c",
   "metadata": {},
   "outputs": [],
   "source": [
    "# lables = os.listdir(data_path)\n",
    "# for lable in lables:\n",
    "#     category_path = os.path.join(data_path,lable)\n",
    "#     images = os.listdir(category_path)\n",
    "#     for image in images:\n",
    "#         img_path = os.path.join(category_path,image)\n",
    "#         img=cv2.imread(img_path,1)\n",
    "#         cv2.imshow('LIVE',img)\n",
    "#         k=cv2.waitKey(100)\n",
    "#         if(k==27):\n",
    "#             break\n",
    "\n",
    "# cv2.destroyAllWindows()"
   ]
  },
  {
   "cell_type": "code",
   "execution_count": null,
   "id": "aca87cc6",
   "metadata": {},
   "outputs": [],
   "source": [
    "# load image 1by 1\n",
    "# convert to gray scale\n",
    "# fase ditection - fase crop\n",
    "# 50*50 resize image\n",
    "# image flatten - 2500\n",
    "# dataset append\n"
   ]
  }
 ],
 "metadata": {
  "kernelspec": {
   "display_name": "conda_venv",
   "language": "python",
   "name": "python3"
  },
  "language_info": {
   "codemirror_mode": {
    "name": "ipython",
    "version": 3
   },
   "file_extension": ".py",
   "mimetype": "text/x-python",
   "name": "python",
   "nbconvert_exporter": "python",
   "pygments_lexer": "ipython3",
   "version": "3.12.9"
  }
 },
 "nbformat": 4,
 "nbformat_minor": 5
}
