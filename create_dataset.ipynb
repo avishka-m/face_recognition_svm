{
 "cells": [
  {
   "cell_type": "code",
   "execution_count": 2,
   "id": "ab0295b5",
   "metadata": {},
   "outputs": [],
   "source": [
    "import os"
   ]
  },
  {
   "cell_type": "code",
   "execution_count": 3,
   "id": "68f9e505",
   "metadata": {},
   "outputs": [
    {
     "name": "stdout",
     "output_type": "stream",
     "text": [
      "train_data_2\n"
     ]
    }
   ],
   "source": [
    "data_path = \"train_data_2\"\n",
    "print(data_path)"
   ]
  },
  {
   "cell_type": "code",
   "execution_count": 4,
   "id": "faefa77c",
   "metadata": {},
   "outputs": [],
   "source": [
    "# lables = os.listdir(data_path)\n",
    "# for lable in lables:\n",
    "#     category_path = os.path.join(data_path,lable)\n",
    "#     images = os.listdir(category_path)\n",
    "#     for image in images:\n",
    "#         img_path = os.path.join(category_path,image)\n",
    "#         img=cv2.imread(img_path,1)\n",
    "#         cv2.imshow('LIVE',img)\n",
    "#         k=cv2.waitKey(100)\n",
    "#         if(k==27):\n",
    "#             break\n",
    "\n",
    "# cv2.destroyAllWindows()"
   ]
  },
  {
   "cell_type": "code",
   "execution_count": 5,
   "id": "aca87cc6",
   "metadata": {},
   "outputs": [],
   "source": [
    "# load image 1by 1\n",
    "# convert to gray scale\n",
    "# fase ditection - fase crop\n",
    "# 50*50 resize image\n",
    "# image flatten - 2500\n",
    "# dataset append\n"
   ]
  },
  {
   "cell_type": "code",
   "execution_count": 6,
   "id": "8ea36c9d",
   "metadata": {},
   "outputs": [],
   "source": [
    "import numpy as np"
   ]
  },
  {
   "cell_type": "code",
   "execution_count": 7,
   "id": "7305f9e0",
   "metadata": {},
   "outputs": [
    {
     "ename": "NameError",
     "evalue": "name 'labels' is not defined",
     "output_type": "error",
     "traceback": [
      "\u001b[31m---------------------------------------------------------------------------\u001b[39m",
      "\u001b[31mNameError\u001b[39m                                 Traceback (most recent call last)",
      "\u001b[36mCell\u001b[39m\u001b[36m \u001b[39m\u001b[32mIn[7]\u001b[39m\u001b[32m, line 2\u001b[39m\n\u001b[32m      1\u001b[39m lables=os.listdir(data_path)\n\u001b[32m----> \u001b[39m\u001b[32m2\u001b[39m categories=np.arange(\u001b[38;5;28mlen\u001b[39m(\u001b[43mlabels\u001b[49m))\n\u001b[32m      3\u001b[39m category_dict=\u001b[38;5;28mdict\u001b[39m(\u001b[38;5;28mzip\u001b[39m(labels,categories))\n\u001b[32m      5\u001b[39m \u001b[38;5;28mprint\u001b[39m(lables)\n",
      "\u001b[31mNameError\u001b[39m: name 'labels' is not defined"
     ]
    }
   ],
   "source": [
    "lables=os.listdir(data_path)\n",
    "categories=np.arange(len(labels))\n",
    "category_dict=dict(zip(labels,categories))\n",
    "\n",
    "print(lables)\n",
    "print(categories)\n",
    "print(category_dict)\n",
    "print(category_dict[\"Barack Obama\"])"
   ]
  },
  {
   "cell_type": "code",
   "execution_count": 1,
   "id": "220643a5",
   "metadata": {},
   "outputs": [
    {
     "ename": "NameError",
     "evalue": "name 'lables' is not defined",
     "output_type": "error",
     "traceback": [
      "\u001b[31m---------------------------------------------------------------------------\u001b[39m",
      "\u001b[31mNameError\u001b[39m                                 Traceback (most recent call last)",
      "\u001b[36mCell\u001b[39m\u001b[36m \u001b[39m\u001b[32mIn[1]\u001b[39m\u001b[32m, line 8\u001b[39m\n\u001b[32m      4\u001b[39m target = []\n\u001b[32m      6\u001b[39m fase_classifire = cv2.CascadeClassifier(\u001b[33m\"\u001b[39m\u001b[33mhaarcascade_frontalface_default.xml\u001b[39m\u001b[33m\"\u001b[39m)\n\u001b[32m----> \u001b[39m\u001b[32m8\u001b[39m \u001b[38;5;28;01mfor\u001b[39;00m lable \u001b[38;5;129;01min\u001b[39;00m \u001b[43mlables\u001b[49m:\n\u001b[32m      9\u001b[39m     imgs_path = os.path.join(data_path,lable)\n\u001b[32m     10\u001b[39m     imgs = os.listdir(imgs_path)\n",
      "\u001b[31mNameError\u001b[39m: name 'lables' is not defined"
     ]
    }
   ],
   "source": [
    "import cv2\n",
    "\n",
    "data = []\n",
    "target = []\n",
    "\n",
    "fase_classifire = cv2.CascadeClassifier(\"haarcascade_frontalface_default.xml\")\n",
    "\n",
    "for lable in lables:\n",
    "    imgs_path = os.path.join(data_path,lable)\n",
    "    imgs = os.listdir(imgs_path)\n",
    "    for img in imgs:\n",
    "        img_path = os.path.join(imgs_path,img)\n",
    "        img = cv2.imread(img_path)\n",
    "\n",
    "        gray = cv2.cvtColor(img,cv2.COLOR_BGR2GRAY)\n",
    "\n",
    "        faces = fase_classifire.detectMultiScale(gray)\n",
    "        save_path = f\"data/{lable}\"\n",
    "        os.makedirs(save_path, exist_ok=True)\n",
    "        for (x,y,w,h) in faces:\n",
    "            # cv2.rectangle(img,(x,y),(x+w,y+h),(0,255,0),2)\n",
    "            croped_face = gray[y:y+h,x:x+w]\n",
    "            cv2.imshow(\"live\",croped_face)\n",
    "            print(\"yes:y , no:n : \")\n",
    "            k = cv2.waitKey(0)\n",
    "            if(k == 121):\n",
    "                croped_face = cv2.resize(croped_face,(50,50))\n",
    "                img_name = f\"{save_path}+{img}\"\n",
    "                cv2.imwrite(img_name,croped_face)\n",
    "                data.append(croped_face)\n",
    "                target.append(category_dict[lable])\n",
    "cv2.destroyAllWindows()    \n"
   ]
  },
  {
   "cell_type": "code",
   "execution_count": null,
   "id": "6958762d",
   "metadata": {},
   "outputs": [],
   "source": [
    "data = np.array(data)\n",
    "target = np.array(target)\n",
    "\n",
    "print(data.shape, target.shape)\n",
    "\n",
    "data = data.reshape(data.shape[0],data.shape[1]*data.shape[2])\n",
    "np.save('data', data)\n",
    "np.save('target', target)"
   ]
  },
  {
   "cell_type": "code",
   "execution_count": null,
   "id": "061024fe",
   "metadata": {},
   "outputs": [],
   "source": []
  }
 ],
 "metadata": {
  "kernelspec": {
   "display_name": "conda_venv",
   "language": "python",
   "name": "python3"
  },
  "language_info": {
   "codemirror_mode": {
    "name": "ipython",
    "version": 3
   },
   "file_extension": ".py",
   "mimetype": "text/x-python",
   "name": "python",
   "nbconvert_exporter": "python",
   "pygments_lexer": "ipython3",
   "version": "3.12.9"
  }
 },
 "nbformat": 4,
 "nbformat_minor": 5
}
