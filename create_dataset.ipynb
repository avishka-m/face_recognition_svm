{
 "cells": [
  {
   "cell_type": "code",
   "execution_count": 1,
   "id": "ab0295b5",
   "metadata": {},
   "outputs": [],
   "source": [
    "import os"
   ]
  },
  {
   "cell_type": "code",
   "execution_count": 3,
   "id": "68f9e505",
   "metadata": {},
   "outputs": [
    {
     "name": "stdout",
     "output_type": "stream",
     "text": [
      "train_data_2\n"
     ]
    }
   ],
   "source": [
    "data_path = \"train_data_2\"\n",
    "print(data_path)"
   ]
  },
  {
   "cell_type": "code",
   "execution_count": 4,
   "id": "faefa77c",
   "metadata": {},
   "outputs": [],
   "source": [
    "# lables = os.listdir(data_path)\n",
    "# for lable in lables:\n",
    "#     category_path = os.path.join(data_path,lable)\n",
    "#     images = os.listdir(category_path)\n",
    "#     for image in images:\n",
    "#         img_path = os.path.join(category_path,image)\n",
    "#         img=cv2.imread(img_path,1)\n",
    "#         cv2.imshow('LIVE',img)\n",
    "#         k=cv2.waitKey(100)\n",
    "#         if(k==27):\n",
    "#             break\n",
    "\n",
    "# cv2.destroyAllWindows()"
   ]
  },
  {
   "cell_type": "code",
   "execution_count": 5,
   "id": "aca87cc6",
   "metadata": {},
   "outputs": [],
   "source": [
    "# load image 1by 1\n",
    "# convert to gray scale\n",
    "# fase ditection - fase crop\n",
    "# 50*50 resize image\n",
    "# image flatten - 2500\n",
    "# dataset append\n"
   ]
  },
  {
   "cell_type": "code",
   "execution_count": 6,
   "id": "8ea36c9d",
   "metadata": {},
   "outputs": [],
   "source": [
    "import numpy as np"
   ]
  },
  {
   "cell_type": "code",
   "execution_count": 12,
   "id": "7305f9e0",
   "metadata": {},
   "outputs": [
    {
     "name": "stdout",
     "output_type": "stream",
     "text": [
      "['Barack Obama', 'Donald Trump', 'George W Bush']\n",
      "[0 1 2]\n",
      "{'Barack Obama': np.int64(0), 'Donald Trump': np.int64(1), 'George W Bush': np.int64(2)}\n",
      "0\n"
     ]
    }
   ],
   "source": [
    "lables=os.listdir(data_path)\n",
    "categories=np.arange(len(labels))\n",
    "category_dict=dict(zip(labels,categories))\n",
    "\n",
    "print(lables)\n",
    "print(categories)\n",
    "print(category_dict)\n",
    "print(category_dict[\"Barack Obama\"])"
   ]
  },
  {
   "cell_type": "code",
   "execution_count": null,
   "id": "220643a5",
   "metadata": {},
   "outputs": [],
   "source": [
    "import cv2\n",
    "\n",
    "fase_classifire = cv2.CascadeClassifier(\"haarcascade_frontalface_default.xml\")\n",
    "\n",
    "for lable in lables:\n",
    "    imgs_path = os.path.join(data_path,lable)\n",
    "    imgs = os.listdir(imgs_path)\n",
    "    for img in imgs:\n",
    "        img_path = os.path.join(imgs_path,img)\n",
    "        img = cv2.imread(img_path)\n",
    "\n",
    "        gray = cv2.cvtColor(img,cv2.COLOR_BGR2GRAY)\n",
    "\n",
    "        faces = fase_classifire.detectMultiScale(gray)\n",
    "\n",
    "        for (x,y,w,h) in faces:\n",
    "            cv2.rectangle(img,(x,y),(x+w,y+h),(0,255,0),2)\n",
    "        cv2.imshow(\"live\",img)\n",
    "        k = cv2.waitKey(1000)\n",
    "        if(k ==27):\n",
    "            break\n",
    "cv2.destroyAllWindows()    \n"
   ]
  },
  {
   "cell_type": "code",
   "execution_count": null,
   "id": "6958762d",
   "metadata": {},
   "outputs": [],
   "source": []
  },
  {
   "cell_type": "code",
   "execution_count": null,
   "id": "061024fe",
   "metadata": {},
   "outputs": [],
   "source": []
  }
 ],
 "metadata": {
  "kernelspec": {
   "display_name": "conda_venv",
   "language": "python",
   "name": "python3"
  },
  "language_info": {
   "codemirror_mode": {
    "name": "ipython",
    "version": 3
   },
   "file_extension": ".py",
   "mimetype": "text/x-python",
   "name": "python",
   "nbconvert_exporter": "python",
   "pygments_lexer": "ipython3",
   "version": "3.12.9"
  }
 },
 "nbformat": 4,
 "nbformat_minor": 5
}
